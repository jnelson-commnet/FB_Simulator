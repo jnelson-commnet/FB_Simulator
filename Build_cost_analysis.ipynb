{
 "cells": [
  {
   "cell_type": "code",
   "execution_count": 1,
   "metadata": {
    "collapsed": true
   },
   "outputs": [],
   "source": [
    "import pandas as pd\n",
    "import os\n",
    "import sys"
   ]
  },
  {
   "cell_type": "code",
   "execution_count": 2,
   "metadata": {
    "collapsed": true
   },
   "outputs": [],
   "source": [
    "# Set paths\n",
    "homey = os.getcwd()\n",
    "redouxPath = os.path.join(homey, 'ForecastRedoux')\n",
    "sqlPath = os.path.join(redouxPath, 'SQL')\n",
    "rawDataPath = os.path.join(redouxPath, 'RawData')\n",
    "AdditionalInfoPath = os.path.join(homey, 'AdditionalInfo')"
   ]
  },
  {
   "cell_type": "code",
   "execution_count": 3,
   "metadata": {
    "collapsed": false
   },
   "outputs": [],
   "source": [
    "# Pull in most recent timeline\n",
    "timeline = pd.read_excel(os.path.join(homey, 'RegularForecast.xlsx'), sheetname='Timeline')"
   ]
  },
  {
   "cell_type": "code",
   "execution_count": 4,
   "metadata": {
    "collapsed": true
   },
   "outputs": [],
   "source": [
    "# Connect to FB API\n",
    "sys.path.insert(0, 'Z:\\Python projects\\FishbowlAPITestProject')\n",
    "import connecttest"
   ]
  },
  {
   "cell_type": "code",
   "execution_count": 10,
   "metadata": {
    "collapsed": false
   },
   "outputs": [
    {
     "name": "stdout",
     "output_type": "stream",
     "text": [
      "Success!\n"
     ]
    }
   ],
   "source": [
    "# Query part costs\n",
    "myresults = connecttest.create_connection(sqlPath, 'AvgCostQuery.txt')\n",
    "myexcel = connecttest.makeexcelsheet(myresults)\n",
    "connecttest.save_workbook(myexcel, rawDataPath, 'AvgCosts.xlsx')"
   ]
  },
  {
   "cell_type": "code",
   "execution_count": 11,
   "metadata": {
    "collapsed": false
   },
   "outputs": [],
   "source": [
    "# Get part costs into a dataFrame\n",
    "costpath = os.path.join(rawDataPath, 'AvgCostsEdited.xlsx')\n",
    "avgCost = pd.read_excel(costpath) #Opens and puts the data into a dataframe\n",
    "avgCost = avgCost.sort_values(by='PART', ascending=True) #Sort the data by part"
   ]
  },
  {
   "cell_type": "code",
   "execution_count": 12,
   "metadata": {
    "collapsed": false
   },
   "outputs": [],
   "source": [
    "# Merge part costs onto timeline\n",
    "timeline = pd.merge(timeline.copy(), avgCost.copy(), how='left', on='PART')"
   ]
  },
  {
   "cell_type": "code",
   "execution_count": 13,
   "metadata": {
    "collapsed": false
   },
   "outputs": [],
   "source": [
    "# Calculate total costs\n",
    "timeline['TotalCost'] = timeline['QTYREMAINING'] * timeline['AvgCost']"
   ]
  },
  {
   "cell_type": "code",
   "execution_count": 14,
   "metadata": {
    "collapsed": false
   },
   "outputs": [],
   "source": [
    "# Grab list of imaginary builds and create build number reference\n",
    "newbuilds = pd.read_excel(os.path.join(AdditionalInfoPath, 'PartsToBuild.xlsx'), sheetname='Sheet1')\n",
    "newbuilds.reset_index(inplace=True)\n",
    "newbuilds['buildIndex'] = (newbuilds['index'] * -1) -1\n",
    "newbuilds.drop('index', axis=1, inplace=True)"
   ]
  },
  {
   "cell_type": "code",
   "execution_count": 15,
   "metadata": {
    "collapsed": true
   },
   "outputs": [],
   "source": [
    "# Create columns to be filled by the next loop.\n",
    "newbuilds['Total_Purchase'] = 0\n",
    "newbuilds['Material_Cost'] = 0"
   ]
  },
  {
   "cell_type": "code",
   "execution_count": 16,
   "metadata": {
    "collapsed": true
   },
   "outputs": [],
   "source": [
    "# This dataFrame will hold cost issues for all the imaginary builds\n",
    "missingCost = pd.DataFrame()"
   ]
  },
  {
   "cell_type": "code",
   "execution_count": 17,
   "metadata": {
    "collapsed": false
   },
   "outputs": [],
   "source": [
    "\"\"\" This loop calculates and updates the total purchasing need for each imaginary build\n",
    "    and it also finds the total raw material cost. \"\"\"\n",
    "for index, row in newbuilds.iterrows():\n",
    "    imagBuild = row['buildIndex']\n",
    "    thisBuild = timeline[timeline['GRANDPARENT'] == imagBuild].copy()\n",
    "    purchDF = thisBuild[thisBuild['ORDERTYPE'] == 'Purchase'].copy()\n",
    "    totPurchDF = purchDF[purchDF['TotalCost'].notnull()].copy()\n",
    "    newbuilds.set_value(index, 'Total_Purchase', purchDF['TotalCost'].sum())\n",
    "    # Now adding the total raw good cost of \"Buy\" items to show total amount in movement\n",
    "    buyItemsDF = thisBuild[thisBuild['Make/Buy'] == 'Buy'].copy()\n",
    "    rawGoodsDF = buyItemsDF[buyItemsDF['ORDERTYPE'] == 'Raw Good']\n",
    "    newbuilds.set_value(index, 'Material_Cost', -1*(rawGoodsDF['TotalCost'].sum()))\n",
    "    # missingCost records parts that have 0 cost or are completely missing cost\n",
    "    noCostDF = rawGoodsDF[(rawGoodsDF['TotalCost'].isnull()) | (rawGoodsDF['TotalCost'] == 0)].copy() # ... it's so nice ...\n",
    "    noCostDF['Build'] = newbuilds.get_value(index, 'Part')\n",
    "    missingCost = missingCost.copy().append(noCostDF.copy())"
   ]
  },
  {
   "cell_type": "code",
   "execution_count": 18,
   "metadata": {
    "collapsed": false
   },
   "outputs": [],
   "source": [
    "# Create a column representing cost in material either in inventory currently or already on order\n",
    "newbuilds['Current_Cost_Used'] = newbuilds['Material_Cost'] - newbuilds['Total_Purchase']"
   ]
  },
  {
   "cell_type": "code",
   "execution_count": 19,
   "metadata": {
    "collapsed": true
   },
   "outputs": [],
   "source": [
    "# Generic labor estimate based solely on total material cost of the build\n",
    "newbuilds['Labor_Estimate'] = newbuilds['Material_Cost'] * 0.2"
   ]
  },
  {
   "cell_type": "code",
   "execution_count": 20,
   "metadata": {
    "collapsed": true
   },
   "outputs": [],
   "source": [
    "# Cost including materials and labor estimate\n",
    "newbuilds['Total_Cost'] = newbuilds['Material_Cost'] + newbuilds['Labor_Estimate']"
   ]
  },
  {
   "cell_type": "code",
   "execution_count": 21,
   "metadata": {
    "collapsed": true
   },
   "outputs": [],
   "source": [
    "timeline.to_clipboard()"
   ]
  },
  {
   "cell_type": "code",
   "execution_count": 22,
   "metadata": {
    "collapsed": false
   },
   "outputs": [],
   "source": [
    "newbuilds.to_clipboard()"
   ]
  },
  {
   "cell_type": "code",
   "execution_count": 23,
   "metadata": {
    "collapsed": false
   },
   "outputs": [],
   "source": [
    "missingCost.to_clipboard()"
   ]
  },
  {
   "cell_type": "code",
   "execution_count": null,
   "metadata": {
    "collapsed": false
   },
   "outputs": [],
   "source": [
    "newbuilds"
   ]
  },
  {
   "cell_type": "code",
   "execution_count": null,
   "metadata": {
    "collapsed": false
   },
   "outputs": [],
   "source": [
    "missingCost"
   ]
  },
  {
   "cell_type": "code",
   "execution_count": null,
   "metadata": {
    "collapsed": true
   },
   "outputs": [],
   "source": []
  },
  {
   "cell_type": "code",
   "execution_count": null,
   "metadata": {
    "collapsed": true
   },
   "outputs": [],
   "source": []
  },
  {
   "cell_type": "code",
   "execution_count": null,
   "metadata": {
    "collapsed": true
   },
   "outputs": [],
   "source": []
  }
 ],
 "metadata": {
  "anaconda-cloud": {},
  "kernelspec": {
   "display_name": "Python [Root]",
   "language": "python",
   "name": "Python [Root]"
  },
  "language_info": {
   "codemirror_mode": {
    "name": "ipython",
    "version": 3
   },
   "file_extension": ".py",
   "mimetype": "text/x-python",
   "name": "python",
   "nbconvert_exporter": "python",
   "pygments_lexer": "ipython3",
   "version": "3.5.2"
  }
 },
 "nbformat": 4,
 "nbformat_minor": 0
}
