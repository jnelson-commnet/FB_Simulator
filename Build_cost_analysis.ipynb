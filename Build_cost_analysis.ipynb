{
 "cells": [
  {
   "cell_type": "code",
   "execution_count": 1,
   "metadata": {
    "collapsed": true
   },
   "outputs": [],
   "source": [
    "import pandas as pd\n",
    "import os\n",
    "import sys"
   ]
  },
  {
   "cell_type": "code",
   "execution_count": 2,
   "metadata": {
    "collapsed": true
   },
   "outputs": [],
   "source": [
    "# Set paths\n",
    "homey = os.getcwd()\n",
    "redouxPath = os.path.join(homey, 'ForecastRedoux')\n",
    "sqlPath = os.path.join(redouxPath, 'SQL')\n",
    "rawDataPath = os.path.join(redouxPath, 'RawData')\n",
    "AdditionalInfoPath = os.path.join(homey, 'AdditionalInfo')"
   ]
  },
  {
   "cell_type": "code",
   "execution_count": 3,
   "metadata": {
    "collapsed": true
   },
   "outputs": [],
   "source": [
    "# Pull in most recent timeline\n",
    "timeline = pd.read_excel(os.path.join(homey, 'RegularForecast.xlsx'), sheetname='Timeline')"
   ]
  },
  {
   "cell_type": "code",
   "execution_count": 4,
   "metadata": {
    "collapsed": true
   },
   "outputs": [],
   "source": [
    "# Connect to FB API\n",
    "sys.path.insert(0, 'Z:\\Python projects\\FishbowlAPITestProject')\n",
    "import connecttest"
   ]
  },
  {
   "cell_type": "code",
   "execution_count": 6,
   "metadata": {
    "collapsed": false
   },
   "outputs": [
    {
     "name": "stdout",
     "output_type": "stream",
     "text": [
      "Success!\n"
     ]
    }
   ],
   "source": [
    "# Query part costs\n",
    "myresults = connecttest.create_connection(sqlPath, 'AvgCostQuery.txt')\n",
    "myexcel = connecttest.makeexcelsheet(myresults)\n",
    "connecttest.save_workbook(myexcel, rawDataPath, 'AvgCosts.xlsx')"
   ]
  },
  {
   "cell_type": "code",
   "execution_count": 7,
   "metadata": {
    "collapsed": false
   },
   "outputs": [],
   "source": [
    "# Get part costs into a dataFrame\n",
    "costpath = os.path.join(rawDataPath, 'AvgCosts.xlsx')\n",
    "avgCost = pd.read_excel(costpath) #Opens and puts the data into a dataframe\n",
    "avgCost = avgCost.sort_values(by='PART', ascending=True) #Sort the data by part"
   ]
  },
  {
   "cell_type": "code",
   "execution_count": 8,
   "metadata": {
    "collapsed": false
   },
   "outputs": [],
   "source": [
    "# Merge part costs onto timeline\n",
    "timeline = pd.merge(timeline.copy(), avgCost.copy(), how='left', on='PART')"
   ]
  },
  {
   "cell_type": "code",
   "execution_count": 9,
   "metadata": {
    "collapsed": false
   },
   "outputs": [],
   "source": [
    "# Calculate total costs\n",
    "timeline['TotalCost'] = timeline['QTYREMAINING'] * timeline['AvgCost']"
   ]
  },
  {
   "cell_type": "code",
   "execution_count": 10,
   "metadata": {
    "collapsed": false
   },
   "outputs": [],
   "source": [
    "# Grab list of imaginary builds and create build number reference\n",
    "newbuilds = pd.read_excel(os.path.join(AdditionalInfoPath, 'PartsToBuild.xlsx'), sheetname='Sheet1')\n",
    "newbuilds.reset_index(inplace=True)\n",
    "newbuilds['buildIndex'] = (newbuilds['index'] * -1) -1\n",
    "newbuilds.drop('index', axis=1, inplace=True)"
   ]
  },
  {
   "cell_type": "code",
   "execution_count": null,
   "metadata": {
    "collapsed": true
   },
   "outputs": [],
   "source": []
  },
  {
   "cell_type": "code",
   "execution_count": 11,
   "metadata": {
    "collapsed": true
   },
   "outputs": [],
   "source": [
    "# Create columns to be filled by the next loop.\n",
    "newbuilds['Total_Purchase'] = 0\n",
    "newbuilds['Total_Cost_Produced'] = 0"
   ]
  },
  {
   "cell_type": "code",
   "execution_count": 12,
   "metadata": {
    "collapsed": true
   },
   "outputs": [],
   "source": [
    "\"\"\" This loop calculates and updates the total purchasing need for each imaginary build\n",
    "    and it also finds the total raw material cost. \"\"\"\n",
    "for index, row in newbuilds.iterrows():\n",
    "    imagBuild = row['buildIndex']\n",
    "    thisBuild = timeline[timeline['GRANDPARENT'] == imagBuild].copy()\n",
    "    purchDF = thisBuild[thisBuild['ORDERTYPE'] == 'Purchase'].copy()\n",
    "    totPurchDF = purchDF[purchDF['TotalCost'].notnull()].copy()\n",
    "    newbuilds.set_value(index, 'Total_Purchase', purchDF['TotalCost'].sum())\n",
    "    # Now adding the total raw good cost of \"Buy\" items to show total amount in movement\n",
    "    buyItemsDF = thisBuild[thisBuild['Make/Buy'] == 'Buy'].copy()\n",
    "    rawGoodsDF = buyItemsDF[buyItemsDF['ORDERTYPE'] == 'Raw Good']\n",
    "    newbuilds.set_value(index, 'Total_Cost_Produced', rawGoodsDF['TotalCost'].sum())\n",
    "    # to be saved for lack of costing info, currently not used!!!\n",
    "    noCostDF = rawGoodsDF[rawGoodsDF['TotalCost'].isnull()].copy() # ... it's so nice ...\n",
    "    # what a waste, eh?"
   ]
  },
  {
   "cell_type": "code",
   "execution_count": 13,
   "metadata": {
    "collapsed": false
   },
   "outputs": [
    {
     "data": {
      "text/html": [
       "<div>\n",
       "<table border=\"1\" class=\"dataframe\">\n",
       "  <thead>\n",
       "    <tr style=\"text-align: right;\">\n",
       "      <th></th>\n",
       "      <th>Part</th>\n",
       "      <th>Qty</th>\n",
       "      <th>Date</th>\n",
       "      <th>buildIndex</th>\n",
       "      <th>Total_Purchase</th>\n",
       "      <th>Total_Cost_Produced</th>\n",
       "    </tr>\n",
       "  </thead>\n",
       "  <tbody>\n",
       "    <tr>\n",
       "      <th>0</th>\n",
       "      <td>016-1632-10 r01</td>\n",
       "      <td>38</td>\n",
       "      <td>2017-05-15</td>\n",
       "      <td>-1</td>\n",
       "      <td>16389</td>\n",
       "      <td>-30283</td>\n",
       "    </tr>\n",
       "    <tr>\n",
       "      <th>1</th>\n",
       "      <td>016-452-10 r03</td>\n",
       "      <td>54</td>\n",
       "      <td>2017-05-15</td>\n",
       "      <td>-2</td>\n",
       "      <td>2494</td>\n",
       "      <td>-17593</td>\n",
       "    </tr>\n",
       "    <tr>\n",
       "      <th>2</th>\n",
       "      <td>016-1622-10 r02</td>\n",
       "      <td>35</td>\n",
       "      <td>2017-05-15</td>\n",
       "      <td>-3</td>\n",
       "      <td>837</td>\n",
       "      <td>-12269</td>\n",
       "    </tr>\n",
       "    <tr>\n",
       "      <th>3</th>\n",
       "      <td>016-1922-10 r02</td>\n",
       "      <td>40</td>\n",
       "      <td>2017-05-15</td>\n",
       "      <td>-4</td>\n",
       "      <td>162380</td>\n",
       "      <td>-194957</td>\n",
       "    </tr>\n",
       "    <tr>\n",
       "      <th>4</th>\n",
       "      <td>016-1009-10 r02</td>\n",
       "      <td>40</td>\n",
       "      <td>2017-05-15</td>\n",
       "      <td>-5</td>\n",
       "      <td>29202</td>\n",
       "      <td>-57554</td>\n",
       "    </tr>\n",
       "    <tr>\n",
       "      <th>5</th>\n",
       "      <td>016-131-10</td>\n",
       "      <td>50</td>\n",
       "      <td>2017-05-15</td>\n",
       "      <td>-6</td>\n",
       "      <td>22175</td>\n",
       "      <td>-25067</td>\n",
       "    </tr>\n",
       "    <tr>\n",
       "      <th>6</th>\n",
       "      <td>016-1877-10 r03</td>\n",
       "      <td>370</td>\n",
       "      <td>2017-05-15</td>\n",
       "      <td>-7</td>\n",
       "      <td>239866</td>\n",
       "      <td>-196702</td>\n",
       "    </tr>\n",
       "    <tr>\n",
       "      <th>7</th>\n",
       "      <td>016-143-10</td>\n",
       "      <td>30</td>\n",
       "      <td>2017-05-15</td>\n",
       "      <td>-8</td>\n",
       "      <td>10377</td>\n",
       "      <td>-17536</td>\n",
       "    </tr>\n",
       "    <tr>\n",
       "      <th>8</th>\n",
       "      <td>016-138-10</td>\n",
       "      <td>20</td>\n",
       "      <td>2017-05-15</td>\n",
       "      <td>-9</td>\n",
       "      <td>3795</td>\n",
       "      <td>-9437</td>\n",
       "    </tr>\n",
       "    <tr>\n",
       "      <th>9</th>\n",
       "      <td>016-1847-10 r01</td>\n",
       "      <td>10</td>\n",
       "      <td>2017-05-15</td>\n",
       "      <td>-10</td>\n",
       "      <td>5211</td>\n",
       "      <td>-6386</td>\n",
       "    </tr>\n",
       "    <tr>\n",
       "      <th>10</th>\n",
       "      <td>016-1849-10 r01</td>\n",
       "      <td>10</td>\n",
       "      <td>2017-05-15</td>\n",
       "      <td>-11</td>\n",
       "      <td>3070</td>\n",
       "      <td>-5568</td>\n",
       "    </tr>\n",
       "    <tr>\n",
       "      <th>11</th>\n",
       "      <td>016-1875-10 r01</td>\n",
       "      <td>30</td>\n",
       "      <td>2017-05-15</td>\n",
       "      <td>-12</td>\n",
       "      <td>98962</td>\n",
       "      <td>-14587</td>\n",
       "    </tr>\n",
       "    <tr>\n",
       "      <th>12</th>\n",
       "      <td>016-550-10 r01</td>\n",
       "      <td>10</td>\n",
       "      <td>2017-05-15</td>\n",
       "      <td>-13</td>\n",
       "      <td>9821</td>\n",
       "      <td>-16129</td>\n",
       "    </tr>\n",
       "    <tr>\n",
       "      <th>13</th>\n",
       "      <td>016-992-10 r02</td>\n",
       "      <td>11</td>\n",
       "      <td>2017-05-15</td>\n",
       "      <td>-14</td>\n",
       "      <td>233</td>\n",
       "      <td>-6411</td>\n",
       "    </tr>\n",
       "    <tr>\n",
       "      <th>14</th>\n",
       "      <td>016-1962-10 r02</td>\n",
       "      <td>10</td>\n",
       "      <td>2017-05-15</td>\n",
       "      <td>-15</td>\n",
       "      <td>5198</td>\n",
       "      <td>-30841</td>\n",
       "    </tr>\n",
       "    <tr>\n",
       "      <th>15</th>\n",
       "      <td>741-252-10 r05</td>\n",
       "      <td>250</td>\n",
       "      <td>2017-05-15</td>\n",
       "      <td>-16</td>\n",
       "      <td>43439</td>\n",
       "      <td>-150721</td>\n",
       "    </tr>\n",
       "  </tbody>\n",
       "</table>\n",
       "</div>"
      ],
      "text/plain": [
       "               Part  Qty        Date  buildIndex  Total_Purchase  \\\n",
       "0   016-1632-10 r01   38  2017-05-15          -1           16389   \n",
       "1    016-452-10 r03   54  2017-05-15          -2            2494   \n",
       "2   016-1622-10 r02   35  2017-05-15          -3             837   \n",
       "3   016-1922-10 r02   40  2017-05-15          -4          162380   \n",
       "4   016-1009-10 r02   40  2017-05-15          -5           29202   \n",
       "5        016-131-10   50  2017-05-15          -6           22175   \n",
       "6   016-1877-10 r03  370  2017-05-15          -7          239866   \n",
       "7        016-143-10   30  2017-05-15          -8           10377   \n",
       "8        016-138-10   20  2017-05-15          -9            3795   \n",
       "9   016-1847-10 r01   10  2017-05-15         -10            5211   \n",
       "10  016-1849-10 r01   10  2017-05-15         -11            3070   \n",
       "11  016-1875-10 r01   30  2017-05-15         -12           98962   \n",
       "12   016-550-10 r01   10  2017-05-15         -13            9821   \n",
       "13   016-992-10 r02   11  2017-05-15         -14             233   \n",
       "14  016-1962-10 r02   10  2017-05-15         -15            5198   \n",
       "15   741-252-10 r05  250  2017-05-15         -16           43439   \n",
       "\n",
       "    Total_Cost_Produced  \n",
       "0                -30283  \n",
       "1                -17593  \n",
       "2                -12269  \n",
       "3               -194957  \n",
       "4                -57554  \n",
       "5                -25067  \n",
       "6               -196702  \n",
       "7                -17536  \n",
       "8                 -9437  \n",
       "9                 -6386  \n",
       "10                -5568  \n",
       "11               -14587  \n",
       "12               -16129  \n",
       "13                -6411  \n",
       "14               -30841  \n",
       "15              -150721  "
      ]
     },
     "execution_count": 13,
     "metadata": {},
     "output_type": "execute_result"
    }
   ],
   "source": [
    "newbuilds"
   ]
  },
  {
   "cell_type": "code",
   "execution_count": 14,
   "metadata": {
    "collapsed": true
   },
   "outputs": [],
   "source": [
    "newbuilds.to_clipboard()"
   ]
  },
  {
   "cell_type": "code",
   "execution_count": null,
   "metadata": {
    "collapsed": true
   },
   "outputs": [],
   "source": []
  },
  {
   "cell_type": "code",
   "execution_count": null,
   "metadata": {
    "collapsed": false
   },
   "outputs": [],
   "source": [
    "# using this as temporary variable to iterate through later\n",
    "imagBuild = -1"
   ]
  },
  {
   "cell_type": "code",
   "execution_count": null,
   "metadata": {
    "collapsed": true
   },
   "outputs": [],
   "source": [
    "thisBuild = timeline[timeline['GRANDPARENT'] == imagBuild].copy()"
   ]
  },
  {
   "cell_type": "code",
   "execution_count": null,
   "metadata": {
    "collapsed": true
   },
   "outputs": [],
   "source": [
    "buyItemsDF = thisBuild[thisBuild['Make/Buy'] == 'Buy'].copy()"
   ]
  },
  {
   "cell_type": "code",
   "execution_count": null,
   "metadata": {
    "collapsed": true
   },
   "outputs": [],
   "source": [
    "rawGoodsDF = buyItemsDF[buyItemsDF['ORDERTYPE'] == 'Raw Good']"
   ]
  },
  {
   "cell_type": "code",
   "execution_count": null,
   "metadata": {
    "collapsed": false
   },
   "outputs": [],
   "source": [
    "noCostDF = rawGoodsDF[rawGoodsDF['TotalCost'].isnull()].copy()"
   ]
  },
  {
   "cell_type": "code",
   "execution_count": null,
   "metadata": {
    "collapsed": false
   },
   "outputs": [],
   "source": [
    "rawGoodsDF['TotalCost'].sum()"
   ]
  },
  {
   "cell_type": "code",
   "execution_count": null,
   "metadata": {
    "collapsed": true
   },
   "outputs": [],
   "source": []
  },
  {
   "cell_type": "code",
   "execution_count": null,
   "metadata": {
    "collapsed": true
   },
   "outputs": [],
   "source": []
  },
  {
   "cell_type": "code",
   "execution_count": null,
   "metadata": {
    "collapsed": false
   },
   "outputs": [],
   "source": [
    "thisBuild = timeline[timeline['GRANDPARENT'] == imagBuild].copy()"
   ]
  },
  {
   "cell_type": "code",
   "execution_count": null,
   "metadata": {
    "collapsed": false
   },
   "outputs": [],
   "source": [
    "purchDF = thisBuild[thisBuild['ORDERTYPE'] == 'Purchase'].copy()"
   ]
  },
  {
   "cell_type": "code",
   "execution_count": null,
   "metadata": {
    "collapsed": false
   },
   "outputs": [],
   "source": [
    "noCostDF = purchDF[purchDF['TotalCost'].isnull()].copy()"
   ]
  },
  {
   "cell_type": "code",
   "execution_count": null,
   "metadata": {
    "collapsed": false
   },
   "outputs": [],
   "source": [
    "totPurchDF = purchDF[purchDF['TotalCost'].notnull()].copy()"
   ]
  },
  {
   "cell_type": "code",
   "execution_count": null,
   "metadata": {
    "collapsed": false
   },
   "outputs": [],
   "source": [
    "totPurchDF['TotalCost'].sum()"
   ]
  },
  {
   "cell_type": "code",
   "execution_count": null,
   "metadata": {
    "collapsed": false
   },
   "outputs": [],
   "source": [
    "totPurchDF"
   ]
  },
  {
   "cell_type": "code",
   "execution_count": null,
   "metadata": {
    "collapsed": false
   },
   "outputs": [],
   "source": [
    "newbuilds.set_value(0, 'Total_Purchase', totPurchDF['TotalCost'].sum())"
   ]
  }
 ],
 "metadata": {
  "kernelspec": {
   "display_name": "Python [Root]",
   "language": "python",
   "name": "Python [Root]"
  },
  "language_info": {
   "codemirror_mode": {
    "name": "ipython",
    "version": 3
   },
   "file_extension": ".py",
   "mimetype": "text/x-python",
   "name": "python",
   "nbconvert_exporter": "python",
   "pygments_lexer": "ipython3",
   "version": "3.5.2"
  }
 },
 "nbformat": 4,
 "nbformat_minor": 0
}
