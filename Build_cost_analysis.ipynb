{
 "cells": [
  {
   "cell_type": "code",
   "execution_count": 1,
   "metadata": {
    "collapsed": true
   },
   "outputs": [],
   "source": [
    "import pandas as pd\n",
    "import os\n",
    "import sys"
   ]
  },
  {
   "cell_type": "code",
   "execution_count": 2,
   "metadata": {
    "collapsed": true
   },
   "outputs": [],
   "source": [
    "# Set paths\n",
    "homey = os.getcwd()\n",
    "redouxPath = os.path.join(homey, 'ForecastRedoux')\n",
    "sqlPath = os.path.join(redouxPath, 'SQL')\n",
    "rawDataPath = os.path.join(redouxPath, 'RawData')\n",
    "AdditionalInfoPath = os.path.join(homey, 'AdditionalInfo')"
   ]
  },
  {
   "cell_type": "code",
   "execution_count": 3,
   "metadata": {
    "collapsed": false
   },
   "outputs": [],
   "source": [
    "# Pull in most recent timeline\n",
    "timeline = pd.read_excel(os.path.join(homey, 'RegularForecast.xlsx'), sheetname='Timeline')"
   ]
  },
  {
   "cell_type": "code",
   "execution_count": 4,
   "metadata": {
    "collapsed": true
   },
   "outputs": [],
   "source": [
    "# Connect to FB API\n",
    "sys.path.insert(0, 'Z:\\Python projects\\FishbowlAPITestProject')\n",
    "import connecttest"
   ]
  },
  {
   "cell_type": "code",
   "execution_count": 5,
   "metadata": {
    "collapsed": false
   },
   "outputs": [
    {
     "name": "stdout",
     "output_type": "stream",
     "text": [
      "Success!\n"
     ]
    }
   ],
   "source": [
    "# Query part costs\n",
    "myresults = connecttest.create_connection(sqlPath, 'AvgCostQuery.txt')\n",
    "myexcel = connecttest.makeexcelsheet(myresults)\n",
    "connecttest.save_workbook(myexcel, rawDataPath, 'AvgCosts.xlsx')"
   ]
  },
  {
   "cell_type": "code",
   "execution_count": 6,
   "metadata": {
    "collapsed": false
   },
   "outputs": [],
   "source": [
    "# Get part costs into a dataFrame\n",
    "costpath = os.path.join(rawDataPath, 'AvgCosts.xlsx')\n",
    "avgCost = pd.read_excel(costpath) #Opens and puts the data into a dataframe\n",
    "avgCost = avgCost.sort_values(by='PART', ascending=True) #Sort the data by part"
   ]
  },
  {
   "cell_type": "code",
   "execution_count": 7,
   "metadata": {
    "collapsed": false
   },
   "outputs": [],
   "source": [
    "# Merge part costs onto timeline\n",
    "timeline = pd.merge(timeline.copy(), avgCost.copy(), how='left', on='PART')"
   ]
  },
  {
   "cell_type": "code",
   "execution_count": 8,
   "metadata": {
    "collapsed": false
   },
   "outputs": [],
   "source": [
    "# Calculate total costs\n",
    "timeline['TotalCost'] = timeline['QTYREMAINING'] * timeline['AvgCost']"
   ]
  },
  {
   "cell_type": "code",
   "execution_count": 9,
   "metadata": {
    "collapsed": false
   },
   "outputs": [],
   "source": [
    "# Grab list of imaginary builds and create build number reference\n",
    "newbuilds = pd.read_excel(os.path.join(AdditionalInfoPath, 'PartsToBuild.xlsx'), sheetname='Sheet1')\n",
    "newbuilds.reset_index(inplace=True)\n",
    "newbuilds['buildIndex'] = (newbuilds['index'] * -1) -1\n",
    "newbuilds.drop('index', axis=1, inplace=True)"
   ]
  },
  {
   "cell_type": "code",
   "execution_count": 10,
   "metadata": {
    "collapsed": true
   },
   "outputs": [],
   "source": [
    "# Create columns to be filled by the next loop.\n",
    "newbuilds['Total_Purchase'] = 0\n",
    "newbuilds['Total_Cost_Produced'] = 0"
   ]
  },
  {
   "cell_type": "code",
   "execution_count": 27,
   "metadata": {
    "collapsed": true
   },
   "outputs": [],
   "source": [
    "# This dataFrame will hold cost issues for all the imaginary builds\n",
    "missingCost = pd.DataFrame()"
   ]
  },
  {
   "cell_type": "code",
   "execution_count": 28,
   "metadata": {
    "collapsed": false
   },
   "outputs": [],
   "source": [
    "\"\"\" This loop calculates and updates the total purchasing need for each imaginary build\n",
    "    and it also finds the total raw material cost. \"\"\"\n",
    "for index, row in newbuilds.iterrows():\n",
    "    imagBuild = row['buildIndex']\n",
    "    thisBuild = timeline[timeline['GRANDPARENT'] == imagBuild].copy()\n",
    "    purchDF = thisBuild[thisBuild['ORDERTYPE'] == 'Purchase'].copy()\n",
    "    totPurchDF = purchDF[purchDF['TotalCost'].notnull()].copy()\n",
    "    newbuilds.set_value(index, 'Total_Purchase', purchDF['TotalCost'].sum())\n",
    "    # Now adding the total raw good cost of \"Buy\" items to show total amount in movement\n",
    "    buyItemsDF = thisBuild[thisBuild['Make/Buy'] == 'Buy'].copy()\n",
    "    rawGoodsDF = buyItemsDF[buyItemsDF['ORDERTYPE'] == 'Raw Good']\n",
    "    newbuilds.set_value(index, 'Total_Cost_Produced', rawGoodsDF['TotalCost'].sum())\n",
    "    # missingCost records parts that have 0 cost or are completely missing cost\n",
    "    noCostDF = rawGoodsDF[(rawGoodsDF['TotalCost'].isnull()) | (rawGoodsDF['TotalCost'] == 0)].copy() # ... it's so nice ...\n",
    "    noCostDF['Build'] = newbuilds.get_value(index, 'Part')\n",
    "    missingCost = missingCost.copy().append(noCostDF.copy())"
   ]
  },
  {
   "cell_type": "code",
   "execution_count": 32,
   "metadata": {
    "collapsed": false
   },
   "outputs": [],
   "source": [
    "# Create a column representing cost in material either in inventory currently or already on order\n",
    "newbuilds['Current_Cost_Used'] = - (newbuilds['Total_Purchase'] + newbuilds['Total_Cost_Produced'])"
   ]
  },
  {
   "cell_type": "code",
   "execution_count": 29,
   "metadata": {
    "collapsed": false
   },
   "outputs": [],
   "source": [
    "missingCost.to_clipboard()"
   ]
  },
  {
   "cell_type": "code",
   "execution_count": 13,
   "metadata": {
    "collapsed": true
   },
   "outputs": [],
   "source": [
    "newbuilds.to_clipboard()"
   ]
  },
  {
   "cell_type": "code",
   "execution_count": 14,
   "metadata": {
    "collapsed": true
   },
   "outputs": [],
   "source": [
    "timeline.to_clipboard()"
   ]
  },
  {
   "cell_type": "code",
   "execution_count": 33,
   "metadata": {
    "collapsed": false
   },
   "outputs": [
    {
     "data": {
      "text/html": [
       "<div>\n",
       "<table border=\"1\" class=\"dataframe\">\n",
       "  <thead>\n",
       "    <tr style=\"text-align: right;\">\n",
       "      <th></th>\n",
       "      <th>Part</th>\n",
       "      <th>Qty</th>\n",
       "      <th>Date</th>\n",
       "      <th>buildIndex</th>\n",
       "      <th>Total_Purchase</th>\n",
       "      <th>Total_Cost_Produced</th>\n",
       "      <th>Current_Cost_Used</th>\n",
       "    </tr>\n",
       "  </thead>\n",
       "  <tbody>\n",
       "    <tr>\n",
       "      <th>0</th>\n",
       "      <td>016-1632-10 r01</td>\n",
       "      <td>8</td>\n",
       "      <td>2017-05-15</td>\n",
       "      <td>-1</td>\n",
       "      <td>118</td>\n",
       "      <td>-3985</td>\n",
       "      <td>3867</td>\n",
       "    </tr>\n",
       "    <tr>\n",
       "      <th>1</th>\n",
       "      <td>016-452-10 r03</td>\n",
       "      <td>54</td>\n",
       "      <td>2017-05-15</td>\n",
       "      <td>-2</td>\n",
       "      <td>2411</td>\n",
       "      <td>-17473</td>\n",
       "      <td>15062</td>\n",
       "    </tr>\n",
       "    <tr>\n",
       "      <th>2</th>\n",
       "      <td>016-1622-10 r02</td>\n",
       "      <td>35</td>\n",
       "      <td>2017-05-15</td>\n",
       "      <td>-3</td>\n",
       "      <td>806</td>\n",
       "      <td>-11976</td>\n",
       "      <td>11170</td>\n",
       "    </tr>\n",
       "    <tr>\n",
       "      <th>3</th>\n",
       "      <td>016-1922-10 r02</td>\n",
       "      <td>40</td>\n",
       "      <td>2017-05-15</td>\n",
       "      <td>-4</td>\n",
       "      <td>145304</td>\n",
       "      <td>-194230</td>\n",
       "      <td>48926</td>\n",
       "    </tr>\n",
       "    <tr>\n",
       "      <th>4</th>\n",
       "      <td>016-1009-10 r02</td>\n",
       "      <td>40</td>\n",
       "      <td>2017-05-15</td>\n",
       "      <td>-5</td>\n",
       "      <td>29202</td>\n",
       "      <td>-57554</td>\n",
       "      <td>28352</td>\n",
       "    </tr>\n",
       "    <tr>\n",
       "      <th>5</th>\n",
       "      <td>016-1877-10 r03</td>\n",
       "      <td>370</td>\n",
       "      <td>2017-05-15</td>\n",
       "      <td>-6</td>\n",
       "      <td>176836</td>\n",
       "      <td>-196521</td>\n",
       "      <td>19685</td>\n",
       "    </tr>\n",
       "    <tr>\n",
       "      <th>6</th>\n",
       "      <td>016-1847-10 r01</td>\n",
       "      <td>10</td>\n",
       "      <td>2017-05-15</td>\n",
       "      <td>-7</td>\n",
       "      <td>4442</td>\n",
       "      <td>-6386</td>\n",
       "      <td>1944</td>\n",
       "    </tr>\n",
       "    <tr>\n",
       "      <th>7</th>\n",
       "      <td>016-1849-10 r01</td>\n",
       "      <td>10</td>\n",
       "      <td>2017-05-15</td>\n",
       "      <td>-8</td>\n",
       "      <td>2362</td>\n",
       "      <td>-5568</td>\n",
       "      <td>3206</td>\n",
       "    </tr>\n",
       "    <tr>\n",
       "      <th>8</th>\n",
       "      <td>016-1875-10 r01</td>\n",
       "      <td>30</td>\n",
       "      <td>2017-05-15</td>\n",
       "      <td>-9</td>\n",
       "      <td>8525</td>\n",
       "      <td>-14561</td>\n",
       "      <td>6036</td>\n",
       "    </tr>\n",
       "    <tr>\n",
       "      <th>9</th>\n",
       "      <td>016-550-10 r01</td>\n",
       "      <td>10</td>\n",
       "      <td>2017-05-15</td>\n",
       "      <td>-10</td>\n",
       "      <td>9821</td>\n",
       "      <td>-16129</td>\n",
       "      <td>6308</td>\n",
       "    </tr>\n",
       "    <tr>\n",
       "      <th>10</th>\n",
       "      <td>016-992-10 r02</td>\n",
       "      <td>11</td>\n",
       "      <td>2017-05-15</td>\n",
       "      <td>-11</td>\n",
       "      <td>229</td>\n",
       "      <td>-6411</td>\n",
       "      <td>6182</td>\n",
       "    </tr>\n",
       "    <tr>\n",
       "      <th>11</th>\n",
       "      <td>741-252-10 r05</td>\n",
       "      <td>250</td>\n",
       "      <td>2017-05-15</td>\n",
       "      <td>-12</td>\n",
       "      <td>33297</td>\n",
       "      <td>-150004</td>\n",
       "      <td>116707</td>\n",
       "    </tr>\n",
       "  </tbody>\n",
       "</table>\n",
       "</div>"
      ],
      "text/plain": [
       "               Part  Qty        Date  buildIndex  Total_Purchase  \\\n",
       "0   016-1632-10 r01    8  2017-05-15          -1             118   \n",
       "1    016-452-10 r03   54  2017-05-15          -2            2411   \n",
       "2   016-1622-10 r02   35  2017-05-15          -3             806   \n",
       "3   016-1922-10 r02   40  2017-05-15          -4          145304   \n",
       "4   016-1009-10 r02   40  2017-05-15          -5           29202   \n",
       "5   016-1877-10 r03  370  2017-05-15          -6          176836   \n",
       "6   016-1847-10 r01   10  2017-05-15          -7            4442   \n",
       "7   016-1849-10 r01   10  2017-05-15          -8            2362   \n",
       "8   016-1875-10 r01   30  2017-05-15          -9            8525   \n",
       "9    016-550-10 r01   10  2017-05-15         -10            9821   \n",
       "10   016-992-10 r02   11  2017-05-15         -11             229   \n",
       "11   741-252-10 r05  250  2017-05-15         -12           33297   \n",
       "\n",
       "    Total_Cost_Produced  Current_Cost_Used  \n",
       "0                 -3985               3867  \n",
       "1                -17473              15062  \n",
       "2                -11976              11170  \n",
       "3               -194230              48926  \n",
       "4                -57554              28352  \n",
       "5               -196521              19685  \n",
       "6                 -6386               1944  \n",
       "7                 -5568               3206  \n",
       "8                -14561               6036  \n",
       "9                -16129               6308  \n",
       "10                -6411               6182  \n",
       "11              -150004             116707  "
      ]
     },
     "execution_count": 33,
     "metadata": {},
     "output_type": "execute_result"
    }
   ],
   "source": [
    "newbuilds"
   ]
  },
  {
   "cell_type": "code",
   "execution_count": null,
   "metadata": {
    "collapsed": true
   },
   "outputs": [],
   "source": []
  },
  {
   "cell_type": "code",
   "execution_count": null,
   "metadata": {
    "collapsed": true
   },
   "outputs": [],
   "source": []
  }
 ],
 "metadata": {
  "kernelspec": {
   "display_name": "Python [Root]",
   "language": "python",
   "name": "Python [Root]"
  },
  "language_info": {
   "codemirror_mode": {
    "name": "ipython",
    "version": 3
   },
   "file_extension": ".py",
   "mimetype": "text/x-python",
   "name": "python",
   "nbconvert_exporter": "python",
   "pygments_lexer": "ipython3",
   "version": "3.5.2"
  }
 },
 "nbformat": 4,
 "nbformat_minor": 0
}
