{
 "cells": [
  {
   "cell_type": "code",
   "execution_count": 1,
   "metadata": {
    "collapsed": true
   },
   "outputs": [],
   "source": [
    "import sys\n",
    "import os\n",
    "import pandas as pd\n",
    "homey = os.getcwd()\n",
    "redouxPath = os.path.join(homey, 'ForecastRedoux')\n",
    "rawDataPath = os.path.join(redouxPath, 'RawData')\n",
    "AdditionalInfoPath = os.path.join(homey, 'AdditionalInfo')\n",
    "sys.path.insert(0, redouxPath)\n",
    "import ForecastMain as fm\n",
    "import ForecastTimelineBackend as ftlb\n",
    "import ForecastSettings as fs\n",
    "import xlsxwriter\n",
    "import datetime as dt"
   ]
  },
  {
   "cell_type": "code",
   "execution_count": 2,
   "metadata": {
    "collapsed": false
   },
   "outputs": [],
   "source": [
    "missingboms = fs.No_BOMs()  # Creates an instance of the class in Forecast Settings No_BOMs\n",
    "manyboms = fs.Many_BOMs()  # Creates an instance of the class in Forecast Settings Many_BOMs\n",
    "datalist = fm.data_prep()"
   ]
  },
  {
   "cell_type": "code",
   "execution_count": 3,
   "metadata": {
    "collapsed": false
   },
   "outputs": [
    {
     "name": "stdout",
     "output_type": "stream",
     "text": [
      "Imaginary builds added ...\n"
     ]
    }
   ],
   "source": [
    "datalist[0] = fm.stitch_builds_to_orders(datalist[0].copy(), datalist[2].copy(), missingboms, manyboms)\n",
    "print('Imaginary builds added ...')"
   ]
  },
  {
   "cell_type": "code",
   "execution_count": 4,
   "metadata": {
    "collapsed": false
   },
   "outputs": [],
   "source": [
    "normal_orders = [datalist[0], datalist[1]]  # newordersdf, invdf\n",
    "invdf = datalist[1]\n",
    "startinginvdf = datalist[1].copy() # invdf is going to change throughout, this is a reference for adding and inventory counter to the timeline later\n",
    "bomsdf = datalist[2]\n",
    "mypartsdf = fm.gather_parts()"
   ]
  },
  {
   "cell_type": "code",
   "execution_count": 5,
   "metadata": {
    "collapsed": false
   },
   "outputs": [
    {
     "name": "stdout",
     "output_type": "stream",
     "text": [
      "section 1\n",
      "section 2\n",
      "tier 2 created\n",
      "tier 3 created\n",
      "tier 4 created\n",
      "tier 5 created\n",
      "tier 6 created\n",
      "tier 7 created\n",
      "tier 8 created\n",
      "tier 9 created\n",
      "section 3\n"
     ]
    }
   ],
   "source": [
    "mytierlist = ftlb.create_bom_tiers_v2(bomsdf, mypartsdf)"
   ]
  },
  {
   "cell_type": "code",
   "execution_count": 6,
   "metadata": {
    "collapsed": false
   },
   "outputs": [
    {
     "name": "stdout",
     "output_type": "stream",
     "text": [
      "*Timeline Has Been Created*\n"
     ]
    }
   ],
   "source": [
    "tier = 1\n",
    "while len(mytierlist) > 0:\n",
    "    #print('Running tier', tier)\n",
    "    tierlist = mytierlist[tier]\n",
    "    normal_orders = fm.complete_orders_loop_redux(tierlist, normal_orders[0], invdf, bomsdf, missingboms, manyboms)\n",
    "    normal_orders[0] = normal_orders[0].append(normal_orders[2])\n",
    "    del mytierlist[tier]\n",
    "    tier += 1\n",
    "print('*Timeline Has Been Created*')"
   ]
  },
  {
   "cell_type": "code",
   "execution_count": 7,
   "metadata": {
    "collapsed": true
   },
   "outputs": [],
   "source": [
    "timingtest = ftlb.find_timing_issues(normal_orders[0], normal_orders[1])"
   ]
  },
  {
   "cell_type": "code",
   "execution_count": 9,
   "metadata": {
    "collapsed": false
   },
   "outputs": [],
   "source": [
    "timeline = normal_orders[0].copy()"
   ]
  },
  {
   "cell_type": "code",
   "execution_count": 15,
   "metadata": {
    "collapsed": false
   },
   "outputs": [],
   "source": [
    "phantomtimelineP = timeline.ix[timeline['ITEM'] == 'Phantom']\n",
    "phantomtimelineI = timeline.ix[timeline['ITEM'] == 'Imaginary']"
   ]
  },
  {
   "cell_type": "code",
   "execution_count": 17,
   "metadata": {
    "collapsed": false
   },
   "outputs": [],
   "source": [
    "phantomtimeline = phantomtimelineP.copy().append(phantomtimelineI.copy())"
   ]
  },
  {
   "cell_type": "code",
   "execution_count": 19,
   "metadata": {
    "collapsed": true
   },
   "outputs": [],
   "source": [
    "index = 4\n"
   ]
  },
  {
   "cell_type": "code",
   "execution_count": 27,
   "metadata": {
    "collapsed": false,
    "scrolled": true
   },
   "outputs": [
    {
     "data": {
      "text/html": [
       "<div>\n",
       "<table border=\"1\" class=\"dataframe\">\n",
       "  <thead>\n",
       "    <tr style=\"text-align: right;\">\n",
       "      <th></th>\n",
       "      <th>DATESCHEDULED</th>\n",
       "      <th>ITEM</th>\n",
       "      <th>Make/Buy</th>\n",
       "      <th>ORDER</th>\n",
       "      <th>ORDERTYPE</th>\n",
       "      <th>PARENT</th>\n",
       "      <th>PART</th>\n",
       "      <th>QTYREMAINING</th>\n",
       "    </tr>\n",
       "  </thead>\n",
       "  <tbody>\n",
       "    <tr>\n",
       "      <th>4</th>\n",
       "      <td>2017-02-22 00:00:00</td>\n",
       "      <td>Phantom</td>\n",
       "      <td>Buy</td>\n",
       "      <td>2647</td>\n",
       "      <td>Purchase</td>\n",
       "      <td>48809/42018</td>\n",
       "      <td>010-531-10</td>\n",
       "      <td>1.0</td>\n",
       "    </tr>\n",
       "    <tr>\n",
       "      <th>4</th>\n",
       "      <td>2017-02-28 00:00:00</td>\n",
       "      <td>Phantom</td>\n",
       "      <td>Buy</td>\n",
       "      <td>2380</td>\n",
       "      <td>Raw Good</td>\n",
       "      <td>432</td>\n",
       "      <td>030-1224-10 r02</td>\n",
       "      <td>-4.0</td>\n",
       "    </tr>\n",
       "  </tbody>\n",
       "</table>\n",
       "</div>"
      ],
      "text/plain": [
       "         DATESCHEDULED     ITEM Make/Buy ORDER ORDERTYPE       PARENT  \\\n",
       "4  2017-02-22 00:00:00  Phantom      Buy  2647  Purchase  48809/42018   \n",
       "4  2017-02-28 00:00:00  Phantom      Buy  2380  Raw Good          432   \n",
       "\n",
       "              PART  QTYREMAINING  \n",
       "4       010-531-10           1.0  \n",
       "4  030-1224-10 r02          -4.0  "
      ]
     },
     "execution_count": 27,
     "metadata": {},
     "output_type": "execute_result"
    }
   ],
   "source": [
    "phantomtimeline.ix[4]"
   ]
  },
  {
   "cell_type": "code",
   "execution_count": 29,
   "metadata": {
    "collapsed": false
   },
   "outputs": [
    {
     "data": {
      "text/html": [
       "<div>\n",
       "<table border=\"1\" class=\"dataframe\">\n",
       "  <thead>\n",
       "    <tr style=\"text-align: right;\">\n",
       "      <th></th>\n",
       "      <th>DATESCHEDULED</th>\n",
       "      <th>ITEM</th>\n",
       "      <th>Make/Buy</th>\n",
       "      <th>ORDER</th>\n",
       "      <th>ORDERTYPE</th>\n",
       "      <th>PARENT</th>\n",
       "      <th>PART</th>\n",
       "      <th>QTYREMAINING</th>\n",
       "    </tr>\n",
       "  </thead>\n",
       "  <tbody>\n",
       "    <tr>\n",
       "      <th>27</th>\n",
       "      <td>2016-08-12 13:16:00</td>\n",
       "      <td>23209</td>\n",
       "      <td>Buy</td>\n",
       "      <td>23209:019</td>\n",
       "      <td>Raw Good</td>\n",
       "      <td>23209:019</td>\n",
       "      <td>030-1229-10 r04</td>\n",
       "      <td>-5.0</td>\n",
       "    </tr>\n",
       "    <tr>\n",
       "      <th>28</th>\n",
       "      <td>2016-10-26 00:00:00</td>\n",
       "      <td>Phantom</td>\n",
       "      <td>Buy</td>\n",
       "      <td>154</td>\n",
       "      <td>Raw Good</td>\n",
       "      <td>45623</td>\n",
       "      <td>030-1229-10 r04</td>\n",
       "      <td>-46.0</td>\n",
       "    </tr>\n",
       "    <tr>\n",
       "      <th>29</th>\n",
       "      <td>2016-11-18 11:39:00</td>\n",
       "      <td>23883</td>\n",
       "      <td>Buy</td>\n",
       "      <td>23883:012</td>\n",
       "      <td>Raw Good</td>\n",
       "      <td>23883:012</td>\n",
       "      <td>030-1229-10 r04</td>\n",
       "      <td>-1.0</td>\n",
       "    </tr>\n",
       "    <tr>\n",
       "      <th>30</th>\n",
       "      <td>2017-01-30 00:00:00</td>\n",
       "      <td>Phantom</td>\n",
       "      <td>Buy</td>\n",
       "      <td>336</td>\n",
       "      <td>Raw Good</td>\n",
       "      <td>48168</td>\n",
       "      <td>030-1229-10 r04</td>\n",
       "      <td>-32.0</td>\n",
       "    </tr>\n",
       "    <tr>\n",
       "      <th>31</th>\n",
       "      <td>2017-02-08 08:40:00</td>\n",
       "      <td>24196</td>\n",
       "      <td>Buy</td>\n",
       "      <td>24196:006</td>\n",
       "      <td>Raw Good</td>\n",
       "      <td>24196:006</td>\n",
       "      <td>030-1229-10 r04</td>\n",
       "      <td>-2.0</td>\n",
       "    </tr>\n",
       "    <tr>\n",
       "      <th>32</th>\n",
       "      <td>2017-02-28 00:00:00</td>\n",
       "      <td>Phantom</td>\n",
       "      <td>Buy</td>\n",
       "      <td>403</td>\n",
       "      <td>Raw Good</td>\n",
       "      <td>47433</td>\n",
       "      <td>030-1229-10 r04</td>\n",
       "      <td>-8.0</td>\n",
       "    </tr>\n",
       "    <tr>\n",
       "      <th>33</th>\n",
       "      <td>2017-03-01 00:00:00</td>\n",
       "      <td>Phantom</td>\n",
       "      <td>Buy</td>\n",
       "      <td>432</td>\n",
       "      <td>Raw Good</td>\n",
       "      <td>47752</td>\n",
       "      <td>030-1229-10 r04</td>\n",
       "      <td>-4.0</td>\n",
       "    </tr>\n",
       "    <tr>\n",
       "      <th>34</th>\n",
       "      <td>2017-03-15 09:54:00</td>\n",
       "      <td>24363</td>\n",
       "      <td>Buy</td>\n",
       "      <td>24363:001</td>\n",
       "      <td>Raw Good</td>\n",
       "      <td>24363:001</td>\n",
       "      <td>030-1229-10 r04</td>\n",
       "      <td>-24.0</td>\n",
       "    </tr>\n",
       "    <tr>\n",
       "      <th>35</th>\n",
       "      <td>2017-03-28 10:04:00</td>\n",
       "      <td>24154</td>\n",
       "      <td>Buy</td>\n",
       "      <td>24154:035</td>\n",
       "      <td>Raw Good</td>\n",
       "      <td>24154:035</td>\n",
       "      <td>030-1229-10 r04</td>\n",
       "      <td>-17.0</td>\n",
       "    </tr>\n",
       "    <tr>\n",
       "      <th>36</th>\n",
       "      <td>2017-05-14 00:00:00</td>\n",
       "      <td>Imaginary</td>\n",
       "      <td>Buy</td>\n",
       "      <td>-2188</td>\n",
       "      <td>Purchase</td>\n",
       "      <td>-16</td>\n",
       "      <td>030-1229-10 r04</td>\n",
       "      <td>100.0</td>\n",
       "    </tr>\n",
       "    <tr>\n",
       "      <th>37</th>\n",
       "      <td>2017-05-15 00:00:00</td>\n",
       "      <td>Imaginary</td>\n",
       "      <td>Buy</td>\n",
       "      <td>-16</td>\n",
       "      <td>Raw Good</td>\n",
       "      <td>-16</td>\n",
       "      <td>030-1229-10 r04</td>\n",
       "      <td>-250.0</td>\n",
       "    </tr>\n",
       "  </tbody>\n",
       "</table>\n",
       "</div>"
      ],
      "text/plain": [
       "          DATESCHEDULED       ITEM Make/Buy      ORDER ORDERTYPE     PARENT  \\\n",
       "27  2016-08-12 13:16:00      23209      Buy  23209:019  Raw Good  23209:019   \n",
       "28  2016-10-26 00:00:00    Phantom      Buy        154  Raw Good      45623   \n",
       "29  2016-11-18 11:39:00      23883      Buy  23883:012  Raw Good  23883:012   \n",
       "30  2017-01-30 00:00:00    Phantom      Buy        336  Raw Good      48168   \n",
       "31  2017-02-08 08:40:00      24196      Buy  24196:006  Raw Good  24196:006   \n",
       "32  2017-02-28 00:00:00    Phantom      Buy        403  Raw Good      47433   \n",
       "33  2017-03-01 00:00:00    Phantom      Buy        432  Raw Good      47752   \n",
       "34  2017-03-15 09:54:00      24363      Buy  24363:001  Raw Good  24363:001   \n",
       "35  2017-03-28 10:04:00      24154      Buy  24154:035  Raw Good  24154:035   \n",
       "36  2017-05-14 00:00:00  Imaginary      Buy      -2188  Purchase        -16   \n",
       "37  2017-05-15 00:00:00  Imaginary      Buy        -16  Raw Good        -16   \n",
       "\n",
       "               PART  QTYREMAINING  \n",
       "27  030-1229-10 r04          -5.0  \n",
       "28  030-1229-10 r04         -46.0  \n",
       "29  030-1229-10 r04          -1.0  \n",
       "30  030-1229-10 r04         -32.0  \n",
       "31  030-1229-10 r04          -2.0  \n",
       "32  030-1229-10 r04          -8.0  \n",
       "33  030-1229-10 r04          -4.0  \n",
       "34  030-1229-10 r04         -24.0  \n",
       "35  030-1229-10 r04         -17.0  \n",
       "36  030-1229-10 r04         100.0  \n",
       "37  030-1229-10 r04        -250.0  "
      ]
     },
     "execution_count": 29,
     "metadata": {},
     "output_type": "execute_result"
    }
   ],
   "source": [
    "normal_orders[0][normal_orders[0]['PART'] == '030-1229-10 r04']"
   ]
  },
  {
   "cell_type": "code",
   "execution_count": 30,
   "metadata": {
    "collapsed": false,
    "scrolled": true
   },
   "outputs": [
    {
     "data": {
      "text/html": [
       "<div>\n",
       "<table border=\"1\" class=\"dataframe\">\n",
       "  <thead>\n",
       "    <tr style=\"text-align: right;\">\n",
       "      <th></th>\n",
       "      <th>DATESCHEDULED</th>\n",
       "      <th>ITEM</th>\n",
       "      <th>Make/Buy</th>\n",
       "      <th>ORDER</th>\n",
       "      <th>ORDERTYPE</th>\n",
       "      <th>PARENT</th>\n",
       "      <th>PART</th>\n",
       "      <th>QTYREMAINING</th>\n",
       "    </tr>\n",
       "  </thead>\n",
       "  <tbody>\n",
       "    <tr>\n",
       "      <th>35</th>\n",
       "      <td>2017-02-20 00:00:00</td>\n",
       "      <td>16</td>\n",
       "      <td>Buy</td>\n",
       "      <td>48745</td>\n",
       "      <td>Sale</td>\n",
       "      <td>48745</td>\n",
       "      <td>020-123-10</td>\n",
       "      <td>-1.0</td>\n",
       "    </tr>\n",
       "    <tr>\n",
       "      <th>35</th>\n",
       "      <td>2017-03-28 10:04:00</td>\n",
       "      <td>24154</td>\n",
       "      <td>Buy</td>\n",
       "      <td>24154:035</td>\n",
       "      <td>Raw Good</td>\n",
       "      <td>24154:035</td>\n",
       "      <td>030-1229-10 r04</td>\n",
       "      <td>-17.0</td>\n",
       "    </tr>\n",
       "  </tbody>\n",
       "</table>\n",
       "</div>"
      ],
      "text/plain": [
       "          DATESCHEDULED   ITEM Make/Buy      ORDER ORDERTYPE     PARENT  \\\n",
       "35  2017-02-20 00:00:00     16      Buy      48745      Sale      48745   \n",
       "35  2017-03-28 10:04:00  24154      Buy  24154:035  Raw Good  24154:035   \n",
       "\n",
       "               PART  QTYREMAINING  \n",
       "35       020-123-10          -1.0  \n",
       "35  030-1229-10 r04         -17.0  "
      ]
     },
     "execution_count": 30,
     "metadata": {},
     "output_type": "execute_result"
    }
   ],
   "source": [
    "normal_orders[0].ix[35]"
   ]
  },
  {
   "cell_type": "code",
   "execution_count": 34,
   "metadata": {
    "collapsed": false
   },
   "outputs": [],
   "source": [
    "timeline = timeline.copy().sort_values(by=['PART', 'DATESCHEDULED', 'ORDER'], ascending=[True, True, True])"
   ]
  },
  {
   "cell_type": "code",
   "execution_count": 38,
   "metadata": {
    "collapsed": false
   },
   "outputs": [],
   "source": [
    "timeline.reset_index(drop=True, inplace=True)"
   ]
  },
  {
   "cell_type": "code",
   "execution_count": null,
   "metadata": {
    "collapsed": true
   },
   "outputs": [],
   "source": []
  }
 ],
 "metadata": {
  "kernelspec": {
   "display_name": "Python [Root]",
   "language": "python",
   "name": "Python [Root]"
  },
  "language_info": {
   "codemirror_mode": {
    "name": "ipython",
    "version": 3
   },
   "file_extension": ".py",
   "mimetype": "text/x-python",
   "name": "python",
   "nbconvert_exporter": "python",
   "pygments_lexer": "ipython3",
   "version": "3.5.2"
  }
 },
 "nbformat": 4,
 "nbformat_minor": 0
}
